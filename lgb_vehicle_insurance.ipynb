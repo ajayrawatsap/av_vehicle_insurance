{
 "cells": [
  {
   "cell_type": "code",
   "execution_count": 10,
   "metadata": {},
   "outputs": [
    {
     "data": {
      "text/html": [
       "<style>.container { width:100% !important; }</style>"
      ],
      "text/plain": [
       "<IPython.core.display.HTML object>"
      ]
     },
     "metadata": {},
     "output_type": "display_data"
    }
   ],
   "source": [
    "import numpy as np # linear algebra\n",
    "import pandas as pd # data processing, CSV file I/O (e.g. pd.read_csv)\n",
    "\n",
    "from sklearn.model_selection import train_test_split\n",
    "from sklearn.model_selection import KFold, StratifiedKFold,TimeSeriesSplit\n",
    "import lightgbm as lgb\n",
    "from sklearn.metrics import accuracy_score, roc_auc_score, f1_score\n",
    "# from imblearn.over_sampling import RandomOverSampler, SMOTE \n",
    "\n",
    "import matplotlib.pyplot as plt\n",
    "import seaborn as sns\n",
    "\n",
    "import os, gc, warnings, time\n",
    "# warnings.filterwarnings(\"ignore\", message=\"categorical_feature in Dataset is overridden\")\n",
    "# warnings.filterwarnings(\"ignore\", message=\"categorical_feature in param dict is overridden\")\n",
    "# warnings.simplefilter(action='ignore', category=FutureWarning)\n",
    "pd.set_option('display.max_columns', 100)\n",
    "\n",
    "random_state = 42\n",
    "\n",
    "warnings.filterwarnings(\"ignore\", message=\"categorical_feature in Dataset is overridden\")\n",
    "# warnings.filterwarnings(\"ignore\", message=\"F-score is ill-defined and being set to 0.0 due to no predicted samples\")\n",
    "warnings.simplefilter(action='ignore', category=FutureWarning)\n",
    "\n",
    "from IPython.core.display import display, HTML\n",
    "display(HTML(\"<style>.container { width:100% !important; }</style>\"))"
   ]
  },
  {
   "cell_type": "code",
   "execution_count": 11,
   "metadata": {},
   "outputs": [],
   "source": [
    "def get_class_from_prob(y_prob):\n",
    "        return  [0  if x < 0.5 else 1 for x in y_prob]\n",
    "\n",
    "\n",
    "def write_predictions(sub, y_prob, filename ):          \n",
    "#     sub_prob = sub.copy()\n",
    "    sub[TARGET] = y_prob    \n",
    "    sub.to_csv( filename, index = False)\n",
    "    \n",
    "    y_pred =   get_class_from_prob(y_prob) \n",
    "    print('Test prediction:Postive class count {}, Percent {:0.2f}'.format(sum(y_pred), sum(y_pred) * 100 / len(y_pred)))\n",
    "    return sub\n",
    "\n",
    "def set_ordinal_encoding(data, cat_cols):   \n",
    "   \n",
    "    for col in [x for x in cat_cols if data[x].dtype == 'object']:\n",
    "        data[col], uniques = pd.factorize(data[col])\n",
    "        #the factorize sets null values to -1, so convert them back to null, as we want LGB to handle null values\n",
    "        data[col] = data[col].replace(-1, np.nan)\n",
    "    print('Finished: Ordinal Encoding')\n",
    "\n",
    "    return data\n",
    "\n",
    "def get_train_test(df, features, ID):\n",
    "    X_train =  df[df[TARGET].notnull()]\n",
    "    X_test  =  df[df[TARGET].isnull()]\n",
    "    y_train = X_train[TARGET]\n",
    "    sub = pd.DataFrame()\n",
    "    sub[ID] = X_test[ID]\n",
    "    X_train = X_train[features]\n",
    "    X_test = X_test[features]\n",
    "    return X_train, X_test, y_train, sub\n",
    "\n",
    "def plot_feature_imp(feature_imp, top_n = 30):\n",
    "    feature_imp = feature_imp.sort_values(['importance'], ascending = False)\n",
    "    feature_imp_disp = feature_imp.head(top_n)\n",
    "    plt.figure(figsize=(10, 12))\n",
    "    sns.barplot(x=\"importance\", y=\"feature\", data=feature_imp_disp)\n",
    "    plt.title('LightGBM Features')\n",
    "    plt.show() \n",
    "    \n",
    "    \n",
    "def cv_results(y_valid, y_prob, verbose = True):   \n",
    "    scores = {}                      \n",
    "    y_pred_class =  [0  if x < 0.5 else 1 for x in y_prob]\n",
    "    scores['cv_accuracy']  = accuracy_score(y_valid, y_pred_class)\n",
    "    scores['cv_auc']       = roc_auc_score(y_valid, y_prob)\n",
    "    scores['cv_f1']      =   f1_score(y_valid, y_pred_class, average = 'binary')\n",
    "    if verbose:\n",
    "        print('CV accuracy {:0.6f}'.format( scores['cv_accuracy'] ))\n",
    "        print('CV AUC  {:0.6f}'.format( scores['cv_auc']   ))\n",
    "        print('CV F1 %0.6f' %scores['cv_f1'] )\n",
    "    return scores  \n",
    "\n",
    "\n",
    "def run_lgb_with_cv(params, X_train, y_train, X_test,cat_cols, oversample =False ,shuffle_split = True, \n",
    "                    test_size =0.2, verbose_eval = 100, ):\n",
    "    \n",
    "    if shuffle_split: \n",
    "        X_train, X_valid, y_train, y_valid = train_test_split(X_train, y_train, test_size = test_size , \n",
    "                                                  random_state = random_state, stratify = y_train)\n",
    "    else:\n",
    "        #since data is sorted according to time, the split will be according to time with shuffle = False\n",
    "        X_train, X_valid, y_train, y_valid = train_test_split(X_train, y_train, test_size = test_size , \n",
    "                                                      random_state = random_state, shuffle = False)\n",
    "         \n",
    "    \n",
    "    if oversample:\n",
    "        ros = RandomOverSampler(random_state= random_state)\n",
    "    #     sm = SMOTE(random_state= random_state)\n",
    "        X_train, y_train = ros.fit_resample(X_train, y_train)\n",
    "        X_train = pd.DataFrame(X_train, columns = X_valid.columns.tolist())\n",
    "        \n",
    "    lgb_train = lgb.Dataset(X_train, y_train)\n",
    "    lgb_valid  = lgb.Dataset(X_valid, y_valid)\n",
    "    early_stopping_rounds = 300\n",
    "    lgb_results = {}    \n",
    "\n",
    "    print('Train shape{} Valid Shape{}, Test Shape {}'.format(X_train.shape, X_valid.shape, X_test.shape))\n",
    "    print('Number of Category Columns {}:'.format(len(cat_cols)))\n",
    "    model = lgb.train(params,\n",
    "                      lgb_train,\n",
    "                      num_boost_round = 10000,\n",
    "                      valid_sets =  [lgb_train,lgb_valid],  #Including train set will do early stopiing for train instead of validation\n",
    "                      early_stopping_rounds = early_stopping_rounds,                      \n",
    "                      categorical_feature = cat_cols,\n",
    "                      evals_result = lgb_results,\n",
    "                      verbose_eval = verbose_eval\n",
    "                       )\n",
    "    y_prob_valid = model.predict(X_valid)    \n",
    "    cv_results(y_valid, y_prob_valid, verbose = True)\n",
    "  \n",
    "    feature_imp = pd.DataFrame()\n",
    "    feature_imp['feature'] = model.feature_name()\n",
    "    feature_imp['importance']  = model.feature_importance()\n",
    "    feature_imp = feature_imp.sort_values(by = 'importance', ascending= False )\n",
    "    return model, feature_imp\n",
    "\n",
    "def run_lgb_no_cv(params, X_train, y_train, X_test,cat_cols, oversample = False, num_rounds = 100, verbose_eval = 100, ):  \n",
    "    if oversample:\n",
    "        ros = RandomOverSampler(random_state= random_state)\n",
    "    #     sm = SMOTE(random_state= random_state)\n",
    "        columns = X_train.columns.tolist()\n",
    "        X_train, y_train = ros.fit_resample(X_train, y_train)\n",
    "        X_train = pd.DataFrame(X_train, columns = columns)\n",
    "      \n",
    "    print('Train shape{}  Test Shape {}'.format(X_train.shape, X_test.shape))\n",
    "    print('Number of Category Columns {}, Number of Rounds {}:'.format(len(cat_cols), num_rounds))\n",
    "\n",
    "    lgb_train = lgb.Dataset(X_train, y_train)\n",
    "    lgb_results = {}    \n",
    "\n",
    "    warnings.filterwarnings(\"ignore\", message=\"categorical_feature in Dataset is overridden\")\n",
    "    model = lgb.train(params,\n",
    "                      lgb_train,\n",
    "                      num_boost_round = num_rounds,                 \n",
    "                      categorical_feature = cat_cols,\n",
    "                      evals_result = lgb_results,\n",
    "                      valid_sets =  [lgb_train],\n",
    "                      verbose_eval = verbose_eval\n",
    "                       )\n",
    "  \n",
    "    feature_imp = pd.DataFrame()\n",
    "    feature_imp['feature'] = model.feature_name()\n",
    "    feature_imp['importance']  = model.feature_importance()\n",
    "    feature_imp = feature_imp.sort_values(by = 'importance', ascending= False )\n",
    "    return model, feature_imp\n",
    "\n",
    "def combine_cols(col1, col2, df):\n",
    "    col = col1 + '_' + col2\n",
    "    df[col] = df[col1].astype(str) + '_'  + df[col2].astype(str)\n",
    "    return df, col\n",
    "\n",
    "\n",
    "def lgb_nfolds(params, X_train, y_train, X_test,  cat_cols = [], oversample = False,\n",
    "               stratifiedKFold = False, nfolds = 5, verbose_eval = 100, predict_test_set = True, early_stopping_rounds = 250 ):\n",
    "    if stratifiedKFold:\n",
    "       folds = StratifiedKFold(n_splits = nfolds, shuffle = True, random_state = random_state)   \n",
    "    else:\n",
    "       folds = KFold(n_splits = nfolds, shuffle = True, random_state = random_state)\n",
    "\n",
    "    oof_prob = np.zeros(shape=(X_train.shape[0])) \n",
    "    cv_score = np.zeros(shape = nfolds)\n",
    "    test_prob = np.zeros(shape=(X_test.shape[0]))\n",
    "    feature_imp = pd.DataFrame()   \n",
    "\n",
    "    print('Train Shape {}, Test shape {}'.format(X_train.shape, X_test.shape )) \n",
    "    print('Number of Category Columns {}:'.format(len(cat_cols)))\n",
    "#     warnings.filterwarnings(\"ignore\", message=\"categorical_feature in Dataset is overridden\")\n",
    "#     warnings.filterwarnings(\"ignore\", message=\"categorical_feature in param dict is overridden\")\n",
    "\n",
    "    for n_fold, (train_idx, valid_idx) in enumerate(folds.split(X_train, y_train)):\n",
    "        train_x, train_y = X_train.iloc[train_idx],  y_train.iloc[train_idx]\n",
    "        valid_x, valid_y = X_train.iloc[valid_idx],  y_train.iloc[valid_idx]   \n",
    "        \n",
    "        if oversample:           \n",
    "#             ros = RandomOverSampler(random_state=42)\n",
    "            sm = SMOTE(random_state= random_state)\n",
    "            train_x, train_y = sm.fit_resample(train_x, train_y)\n",
    "            train_x = pd.DataFrame(train_x, columns = X_train.columns.tolist())\n",
    "        \n",
    "        lgb_train = lgb.Dataset(train_x, train_y)\n",
    "        lgb_valid  = lgb.Dataset(valid_x, valid_y)\n",
    "        \n",
    "        lgb_results = {}\n",
    "        \n",
    "        print('\\nTrain Shape {}, Valid shape {}'.format(train_x.shape, valid_x.shape )) \n",
    "        model = lgb.train(params,\n",
    "                          lgb_train,\n",
    "                          num_boost_round = 10000,\n",
    "                          valid_sets =  [lgb_train,lgb_valid],\n",
    "#                           valid_sets =  [lgb_valid],\n",
    "                          early_stopping_rounds = early_stopping_rounds,                    \n",
    "                          categorical_feature = cat_cols,                    \n",
    "                          evals_result = lgb_results,\n",
    "#                           feval = lgb_f1_score,\n",
    "                          verbose_eval = verbose_eval\n",
    "                           )\n",
    "\n",
    "        oof_prob[valid_idx] = model.predict(valid_x) \n",
    "        y_pred =   get_class_from_prob(oof_prob[valid_idx])\n",
    "        print('Valid Set:Postive class count {}, Percent {:0.2f}'.format(sum(valid_y), sum(valid_y) * 100 / len(valid_y)))\n",
    "        print('Valid Predict :Postive class count {}, Percent {:0.2f}'.format(sum(y_pred), sum(y_pred) * 100 / len(y_pred)))\n",
    "        if predict_test_set:                            \n",
    "            #Average out the test set probablities  \n",
    "            test_prob += model.predict(X_test) / folds.n_splits        \n",
    "    \n",
    "        fold_importance = pd.DataFrame()\n",
    "        fold_importance[\"feature\"] =  model.feature_name()\n",
    "        fold_importance[\"importance\"] = model.feature_importance()\n",
    "        fold_importance[\"fold\"] = n_fold + 1   \n",
    "        feature_imp = pd.concat([feature_imp, fold_importance], axis=0)\n",
    "        \n",
    "        print('Fold {}'.format(n_fold+1), end =' ')\n",
    "        scores = cv_results(valid_y, oof_prob[valid_idx], verbose = False)\n",
    "        cv_score[n_fold] = round(scores['cv_auc'], 6)\n",
    "        print('Validation AUC {:0.6f}'.format(cv_score[n_fold]))  \n",
    "           \n",
    "    print('\\nScores:', cv_score)\n",
    "    print('Mean AUC Score{:0.6f}: '.format(np.mean(cv_score))) \n",
    "    print('Out of Fold  CV results') \n",
    "    cv_results(y_train, oof_prob, verbose = True)\n",
    "    \n",
    "    y_pred =   get_class_from_prob(oof_prob)   \n",
    "    print('OOF prediction:Postive class count {}, Percent {:0.2f}'.format(sum(y_pred), sum(y_pred) * 100 / len(y_pred)))\n",
    "\n",
    "    feature_imp = feature_imp[['feature', 'importance']].groupby(['feature']).mean().reset_index()\n",
    "    feature_imp.sort_values(['importance'], ascending= False, inplace = True)\n",
    "    return oof_prob, test_prob, feature_imp   \n"
   ]
  },
  {
   "cell_type": "markdown",
   "metadata": {},
   "source": [
    "## Read Data"
   ]
  },
  {
   "cell_type": "code",
   "execution_count": 12,
   "metadata": {},
   "outputs": [
    {
     "name": "stdout",
     "output_type": "stream",
     "text": [
      "Train  Data - rows: 381109 columns: 12\n",
      "Test  Data - rows: 127037 columns: 11\n",
      "Data - rows: 508146 columns: 12\n"
     ]
    }
   ],
   "source": [
    "data_path = \"C:\\\\Users\\\\I056036\\\\OneDrive - SAP SE\\\\Documents\\\\Docs\\\\Development\\\\datasets\\\\AV VehicleInsurance\\\\data\"\n",
    "output_path = \"C:\\\\Users\\\\I056036\\\\OneDrive - SAP SE\\\\Documents\\\\Docs\\\\Development\\\\datasets\\\\AV VehicleInsurance\\\\outputs\"\n",
    "\n",
    "train = pd.read_csv(os.path.join(data_path, 'train.csv'))\n",
    "test = pd.read_csv(os.path.join(data_path, 'test.csv'))\n",
    "\n",
    "data = train.append(test, ignore_index = True, sort=False)\n",
    "\n",
    "print('Train  Data - rows:', train.shape[0], 'columns:', train.shape[1])\n",
    "print('Test  Data - rows:', test.shape[0], 'columns:', test.shape[1])\n",
    "print('Data - rows:', data.shape[0], 'columns:', data.shape[1])"
   ]
  },
  {
   "cell_type": "markdown",
   "metadata": {},
   "source": [
    "## Data Preprocessing"
   ]
  },
  {
   "cell_type": "code",
   "execution_count": 13,
   "metadata": {},
   "outputs": [],
   "source": [
    "TARGET = 'Response'\n",
    "cols = train.columns.tolist()\n",
    "categorical_cols = [ 'Gender',  'Driving_License', 'Region_Code', 'Previously_Insured',  'Vehicle_Damage',  'Policy_Sales_Channel',  'Vehicle_Age']\n",
    "numerical_cols = ['Age',   'Annual_Premium', 'Vintage']"
   ]
  },
  {
   "cell_type": "code",
   "execution_count": 14,
   "metadata": {},
   "outputs": [
    {
     "name": "stdout",
     "output_type": "stream",
     "text": [
      "Finished: Ordinal Encoding\n",
      "Train Shape (381109, 10), Test Shape (127037, 10)\n"
     ]
    }
   ],
   "source": [
    "\n",
    "features = categorical_cols + numerical_cols\n",
    "           \n",
    "\n",
    "\n",
    "data = set_ordinal_encoding(data, categorical_cols)\n",
    "X_train, X_test, y_train, sub = get_train_test(data, features, 'id')\n",
    "print('Train Shape {}, Test Shape {}'.format(X_train.shape, X_test.shape))\n",
    "\n"
   ]
  },
  {
   "cell_type": "markdown",
   "metadata": {},
   "source": [
    "## LGB 5- Fold"
   ]
  },
  {
   "cell_type": "code",
   "execution_count": 15,
   "metadata": {
    "scrolled": false
   },
   "outputs": [
    {
     "name": "stdout",
     "output_type": "stream",
     "text": [
      "Train Shape (381109, 10), Test shape (127037, 10)\n",
      "Number of Category Columns 6:\n",
      "\n",
      "Train Shape (304887, 10), Valid shape (76222, 10)\n",
      "[LightGBM] [Info] Number of positive: 37187, number of negative: 267700\n",
      "[LightGBM] [Warning] Auto-choosing row-wise multi-threading, the overhead of testing was 0.004671 seconds.\n",
      "You can set `force_row_wise=true` to remove the overhead.\n",
      "And if memory is not enough, you can set `force_col_wise=true`.\n",
      "[LightGBM] [Info] Total Bins 764\n",
      "[LightGBM] [Info] Number of data points in the train set: 304887, number of used features: 10\n",
      "[LightGBM] [Info] [binary:BoostFromScore]: pavg=0.121970 -> initscore=-1.973908\n",
      "[LightGBM] [Info] Start training from score -1.973908\n",
      "Training until validation scores don't improve for 300 rounds\n"
     ]
    },
    {
     "name": "stderr",
     "output_type": "stream",
     "text": [
      "C:\\ProgramData\\Anaconda3\\lib\\site-packages\\lightgbm\\basic.py:1286: UserWarning: Overriding the parameters from Reference Dataset.\n",
      "  warnings.warn('Overriding the parameters from Reference Dataset.')\n",
      "C:\\ProgramData\\Anaconda3\\lib\\site-packages\\lightgbm\\basic.py:1098: UserWarning: categorical_column in param dict is overridden.\n",
      "  warnings.warn('{} in param dict is overridden.'.format(cat_alias))\n"
     ]
    },
    {
     "name": "stdout",
     "output_type": "stream",
     "text": [
      "[100]\ttraining's auc: 0.862476\tvalid_1's auc: 0.860849\n",
      "[200]\ttraining's auc: 0.866216\tvalid_1's auc: 0.860946\n",
      "[300]\ttraining's auc: 0.870727\tvalid_1's auc: 0.860809\n",
      "[400]\ttraining's auc: 0.874668\tvalid_1's auc: 0.860619\n",
      "Early stopping, best iteration is:\n",
      "[171]\ttraining's auc: 0.86494\tvalid_1's auc: 0.860993\n",
      "Valid Set:Postive class count 9523.0, Percent 12.49\n",
      "Valid Predict :Postive class count 95, Percent 0.12\n",
      "Fold 1 Validation AUC 0.860993\n",
      "\n",
      "Train Shape (304887, 10), Valid shape (76222, 10)\n",
      "[LightGBM] [Info] Number of positive: 37367, number of negative: 267520\n",
      "[LightGBM] [Warning] Auto-choosing row-wise multi-threading, the overhead of testing was 0.004054 seconds.\n",
      "You can set `force_row_wise=true` to remove the overhead.\n",
      "And if memory is not enough, you can set `force_col_wise=true`.\n",
      "[LightGBM] [Info] Total Bins 767\n",
      "[LightGBM] [Info] Number of data points in the train set: 304887, number of used features: 10\n",
      "[LightGBM] [Info] [binary:BoostFromScore]: pavg=0.122560 -> initscore=-1.968406\n",
      "[LightGBM] [Info] Start training from score -1.968406\n",
      "Training until validation scores don't improve for 300 rounds\n"
     ]
    },
    {
     "name": "stderr",
     "output_type": "stream",
     "text": [
      "C:\\ProgramData\\Anaconda3\\lib\\site-packages\\lightgbm\\basic.py:1286: UserWarning: Overriding the parameters from Reference Dataset.\n",
      "  warnings.warn('Overriding the parameters from Reference Dataset.')\n",
      "C:\\ProgramData\\Anaconda3\\lib\\site-packages\\lightgbm\\basic.py:1098: UserWarning: categorical_column in param dict is overridden.\n",
      "  warnings.warn('{} in param dict is overridden.'.format(cat_alias))\n"
     ]
    },
    {
     "name": "stdout",
     "output_type": "stream",
     "text": [
      "[100]\ttraining's auc: 0.863471\tvalid_1's auc: 0.857897\n",
      "[200]\ttraining's auc: 0.86724\tvalid_1's auc: 0.857967\n",
      "[300]\ttraining's auc: 0.871596\tvalid_1's auc: 0.85767\n",
      "[400]\ttraining's auc: 0.874558\tvalid_1's auc: 0.857323\n",
      "Early stopping, best iteration is:\n",
      "[131]\ttraining's auc: 0.864583\tvalid_1's auc: 0.858058\n",
      "Valid Set:Postive class count 9343.0, Percent 12.26\n",
      "Valid Predict :Postive class count 56, Percent 0.07\n",
      "Fold 2 Validation AUC 0.858058\n",
      "\n",
      "Train Shape (304887, 10), Valid shape (76222, 10)\n",
      "[LightGBM] [Info] Number of positive: 37361, number of negative: 267526\n",
      "[LightGBM] [Warning] Auto-choosing row-wise multi-threading, the overhead of testing was 0.005823 seconds.\n",
      "You can set `force_row_wise=true` to remove the overhead.\n",
      "And if memory is not enough, you can set `force_col_wise=true`.\n",
      "[LightGBM] [Info] Total Bins 769\n",
      "[LightGBM] [Info] Number of data points in the train set: 304887, number of used features: 10\n",
      "[LightGBM] [Info] [binary:BoostFromScore]: pavg=0.122540 -> initscore=-1.968589\n",
      "[LightGBM] [Info] Start training from score -1.968589\n",
      "Training until validation scores don't improve for 300 rounds"
     ]
    },
    {
     "name": "stderr",
     "output_type": "stream",
     "text": [
      "C:\\ProgramData\\Anaconda3\\lib\\site-packages\\lightgbm\\basic.py:1286: UserWarning: Overriding the parameters from Reference Dataset.\n",
      "  warnings.warn('Overriding the parameters from Reference Dataset.')\n",
      "C:\\ProgramData\\Anaconda3\\lib\\site-packages\\lightgbm\\basic.py:1098: UserWarning: categorical_column in param dict is overridden.\n",
      "  warnings.warn('{} in param dict is overridden.'.format(cat_alias))\n"
     ]
    },
    {
     "name": "stdout",
     "output_type": "stream",
     "text": [
      "\n",
      "[100]\ttraining's auc: 0.864192\tvalid_1's auc: 0.855472\n",
      "[200]\ttraining's auc: 0.868057\tvalid_1's auc: 0.855514\n",
      "[300]\ttraining's auc: 0.872245\tvalid_1's auc: 0.855511\n",
      "[400]\ttraining's auc: 0.876104\tvalid_1's auc: 0.855384\n",
      "Early stopping, best iteration is:\n",
      "[169]\ttraining's auc: 0.866759\tvalid_1's auc: 0.855617\n",
      "Valid Set:Postive class count 9349.0, Percent 12.27\n",
      "Valid Predict :Postive class count 92, Percent 0.12\n",
      "Fold 3 Validation AUC 0.855617\n",
      "\n",
      "Train Shape (304887, 10), Valid shape (76222, 10)\n",
      "[LightGBM] [Info] Number of positive: 37572, number of negative: 267315\n",
      "[LightGBM] [Warning] Auto-choosing row-wise multi-threading, the overhead of testing was 0.005507 seconds.\n",
      "You can set `force_row_wise=true` to remove the overhead.\n",
      "And if memory is not enough, you can set `force_col_wise=true`.\n",
      "[LightGBM] [Info] Total Bins 765\n",
      "[LightGBM] [Info] Number of data points in the train set: 304887, number of used features: 10\n",
      "[LightGBM] [Info] [binary:BoostFromScore]: pavg=0.123233 -> initscore=-1.962169\n",
      "[LightGBM] [Info] Start training from score -1.962169\n",
      "Training until validation scores don't improve for 300 rounds\n"
     ]
    },
    {
     "name": "stderr",
     "output_type": "stream",
     "text": [
      "C:\\ProgramData\\Anaconda3\\lib\\site-packages\\lightgbm\\basic.py:1286: UserWarning: Overriding the parameters from Reference Dataset.\n",
      "  warnings.warn('Overriding the parameters from Reference Dataset.')\n",
      "C:\\ProgramData\\Anaconda3\\lib\\site-packages\\lightgbm\\basic.py:1098: UserWarning: categorical_column in param dict is overridden.\n",
      "  warnings.warn('{} in param dict is overridden.'.format(cat_alias))\n"
     ]
    },
    {
     "name": "stdout",
     "output_type": "stream",
     "text": [
      "[100]\ttraining's auc: 0.863325\tvalid_1's auc: 0.859661\n",
      "[200]\ttraining's auc: 0.866886\tvalid_1's auc: 0.859776\n",
      "[300]\ttraining's auc: 0.871216\tvalid_1's auc: 0.859368\n",
      "[400]\ttraining's auc: 0.875275\tvalid_1's auc: 0.859005\n",
      "Early stopping, best iteration is:\n",
      "[165]\ttraining's auc: 0.86546\tvalid_1's auc: 0.859861\n",
      "Valid Set:Postive class count 9138.0, Percent 11.99\n",
      "Valid Predict :Postive class count 91, Percent 0.12\n",
      "Fold 4 Validation AUC 0.859861\n",
      "\n",
      "Train Shape (304888, 10), Valid shape (76221, 10)\n",
      "[LightGBM] [Info] Number of positive: 37353, number of negative: 267535\n",
      "[LightGBM] [Warning] Auto-choosing row-wise multi-threading, the overhead of testing was 0.007346 seconds.\n",
      "You can set `force_row_wise=true` to remove the overhead.\n",
      "And if memory is not enough, you can set `force_col_wise=true`.\n",
      "[LightGBM] [Info] Total Bins 766\n",
      "[LightGBM] [Info] Number of data points in the train set: 304888, number of used features: 10\n",
      "[LightGBM] [Info] [binary:BoostFromScore]: pavg=0.122514 -> initscore=-1.968837\n",
      "[LightGBM] [Info] Start training from score -1.968837\n",
      "Training until validation scores don't improve for 300 rounds\n"
     ]
    },
    {
     "name": "stderr",
     "output_type": "stream",
     "text": [
      "C:\\ProgramData\\Anaconda3\\lib\\site-packages\\lightgbm\\basic.py:1286: UserWarning: Overriding the parameters from Reference Dataset.\n",
      "  warnings.warn('Overriding the parameters from Reference Dataset.')\n",
      "C:\\ProgramData\\Anaconda3\\lib\\site-packages\\lightgbm\\basic.py:1098: UserWarning: categorical_column in param dict is overridden.\n",
      "  warnings.warn('{} in param dict is overridden.'.format(cat_alias))\n"
     ]
    },
    {
     "name": "stdout",
     "output_type": "stream",
     "text": [
      "[100]\ttraining's auc: 0.863714\tvalid_1's auc: 0.856534\n",
      "[200]\ttraining's auc: 0.867596\tvalid_1's auc: 0.856783\n",
      "[300]\ttraining's auc: 0.871914\tvalid_1's auc: 0.856678\n",
      "[400]\ttraining's auc: 0.875788\tvalid_1's auc: 0.856423\n",
      "[500]\ttraining's auc: 0.879308\tvalid_1's auc: 0.856272\n",
      "Early stopping, best iteration is:\n",
      "[216]\ttraining's auc: 0.86831\tvalid_1's auc: 0.856839\n",
      "Valid Set:Postive class count 9357.0, Percent 12.28\n",
      "Valid Predict :Postive class count 158, Percent 0.21\n",
      "Fold 5 Validation AUC 0.856839\n",
      "\n",
      "Scores: [0.860993 0.858058 0.855617 0.859861 0.856839]\n",
      "Mean AUC Score0.858274: \n",
      "Out of Fold  CV results\n",
      "CV accuracy 0.877489\n",
      "CV AUC  0.858167\n",
      "CV F1 0.010847\n",
      "OOF prediction:Postive class count 492, Percent 0.13\n",
      "Wall time: 1min 51s\n"
     ]
    }
   ],
   "source": [
    "%%time\n",
    "# cat_cols = []\n",
    "\n",
    "params = {}\n",
    "# params['bagging_fraction'] = 0.95\n",
    "# params['bagging_freq'] = 3\n",
    "# params['feature_fraction'] = 0.4\n",
    "# params['lambda_l1'] = 0.15\n",
    "# params['lambda_l2'] = 4.76\n",
    "# params['max_bin'] = 511\n",
    "# params['min_data_in_leaf'] = 189\n",
    "# params['min_gain_to_split'] = 5.95\n",
    "# params['min_sum_hessian_in_leaf'] = 6.0\n",
    "# params['scale_pos_weight'] = 1.4\n",
    "\n",
    "params['learning_rate'] =  0.05\n",
    "# params['num_leaves'] =  193\n",
    "params['boosting_type'] = 'gbdt'\n",
    "params['objective'] = 'binary'\n",
    "params['seed'] =  random_state\n",
    "params['metric'] = 'auc'\n",
    "\n",
    "\n",
    "cat_cols = categorical_cols\n",
    "cat_cols.remove('Policy_Sales_Channel')\n",
    "oof_prob, y_prob_test, feature_imp  = lgb_nfolds(params, X_train, y_train, X_test,  cat_cols , stratifiedKFold = False, \n",
    "                                                 nfolds = 5, verbose_eval = 100, predict_test_set = True,  early_stopping_rounds = 300 )\n",
    "\n"
   ]
  },
  {
   "cell_type": "code",
   "execution_count": 16,
   "metadata": {},
   "outputs": [
    {
     "name": "stdout",
     "output_type": "stream",
     "text": [
      "Test prediction:Postive class count 137, Percent 0.11\n"
     ]
    },
    {
     "data": {
      "image/png": "[encoded data removed]",
      "text/plain": [
       "<Figure size 720x864 with 1 Axes>"
      ]
     },
     "metadata": {
      "needs_background": "light"
     },
     "output_type": "display_data"
    },
    {
     "name": "stdout",
     "output_type": "stream",
     "text": [
      "{'learning_rate': 0.05, 'boosting_type': 'gbdt', 'objective': 'binary', 'seed': 42, 'metric': 'auc'}\n"
     ]
    }
   ],
   "source": [
    "out_file = os.path.join(output_path, 'lgb_results.csv')\n",
    "write_predictions(sub,y_prob_test, out_file )\n",
    "plot_feature_imp(feature_imp, top_n = 30)\n",
    "print(params)"
   ]
  },
  {
   "cell_type": "code",
   "execution_count": null,
   "metadata": {},
   "outputs": [],
   "source": []
  }
 ],
 "metadata": {
  "kernelspec": {
   "display_name": "Python 3",
   "language": "python",
   "name": "python3"
  },
  "language_info": {
   "codemirror_mode": {
    "name": "ipython",
    "version": 3
   },
   "file_extension": ".py",
   "mimetype": "text/x-python",
   "name": "python",
   "nbconvert_exporter": "python",
   "pygments_lexer": "ipython3",
   "version": "3.7.6"
  }
 },
 "nbformat": 4,
 "nbformat_minor": 4
}
